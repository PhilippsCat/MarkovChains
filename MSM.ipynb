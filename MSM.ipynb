{
 "cells": [
  {
   "cell_type": "code",
   "execution_count": 3,
   "metadata": {
    "collapsed": false
   },
   "outputs": [
    {
     "name": "stdout",
     "output_type": "stream",
     "text": [
      "Populating the interactive namespace from numpy and matplotlib\n"
     ]
    }
   ],
   "source": [
    "%pylab inline"
   ]
  },
  {
   "cell_type": "code",
   "execution_count": 22,
   "metadata": {
    "collapsed": false
   },
   "outputs": [],
   "source": []
  },
  {
   "cell_type": "code",
   "execution_count": 24,
   "metadata": {
    "collapsed": false
   },
   "outputs": [],
   "source": []
  },
  {
   "cell_type": "code",
   "execution_count": 25,
   "metadata": {
    "collapsed": false
   },
   "outputs": [],
   "source": [
    "#Check whether a given matrix is a stochastic matrix\n",
    "def checkTransitionMatrix(T):\n",
    "    bool = 1\n",
    "    n,m = T.shape\n",
    "    for i in range(0,n):\n",
    "        if sum(T[i,:]) != 1:\n",
    "            bool = 0\n",
    "            break\n",
    "    return bool"
   ]
  },
  {
   "cell_type": "code",
   "execution_count": 13,
   "metadata": {
    "collapsed": true
   },
   "outputs": [],
   "source": [
    "class MSM:\n",
    "    \n",
    "    def __init__(self,T):\n",
    "        self.T = T\n",
    "        \n",
    "    def stationarydistribution(self):\n",
    "        EW,EV = linalg.eig(transpose(T))\n",
    "        statdist = EV[:,0] / sum(EV[:,0])\n",
    "        return statdist\n",
    "    \n",
    "    def eigenvalues(self):\n",
    "        EW, EV = linalg.eig(T)\n",
    "        return EW\n",
    "    \n",
    "    def timescales(self):\n",
    "        EW = self.eigenvalues()\n",
    "        t = []\n",
    "        for i in range(0,len(EW)):\n",
    "            t.append(-1 / log(EW[i]))\n",
    "        return t\n",
    "    \n",
    "    def TPT(self):\n",
    "        qminus = np.ones(len(T))\n",
    "        qplus  = np.ones(len(T))\n",
    "        n = len(qminus)\n",
    "        f = np.zeros(shape=(n,n)) # discrete prob. curr.\n",
    "        pi = self.stationarydistribution()\n",
    "        effprobcur = np.zeros(shape=(n,n))\n",
    "        FAB = 0\n",
    "        set = [1,2]\n",
    "        for i in range(0,n):\n",
    "            for j in range(0,n):\n",
    "                if (i != j):\n",
    "\n",
    "                    f[i,j] = pi[i]*qminus[i]*T[i,j]*qplus[j]\n",
    "                    f[j,i] = pi[j]*qminus[j]*T[j,i]*qplus[i]\n",
    "                    effprobcur[i,j] = max(0,(f[i,j]- f[j,i]))\n",
    "\n",
    "                    if (i in set):\n",
    "                        FAB = FAB + effprobcur[i,j]\n",
    "\n",
    "        KAB = FAB / dot(pi,qminus)\n",
    "        return f, effprobcur, FAB, KAB"
   ]
  },
  {
   "cell_type": "code",
   "execution_count": 37,
   "metadata": {
    "collapsed": false
   },
   "outputs": [],
   "source": [
    "T = np.array([[0.5, 0.5],[0.5,0.5]])"
   ]
  },
  {
   "cell_type": "code",
   "execution_count": 10,
   "metadata": {
    "collapsed": true
   },
   "outputs": [],
   "source": [
    "testmsm = MSM(T)"
   ]
  },
  {
   "cell_type": "code",
   "execution_count": 41,
   "metadata": {
    "collapsed": false
   },
   "outputs": [
    {
     "data": {
      "text/plain": [
       "array([ 1.,  0.])"
      ]
     },
     "execution_count": 41,
     "metadata": {},
     "output_type": "execute_result"
    }
   ],
   "source": [
    "pi = testmsm.stationarydistribution()\n",
    "pi"
   ]
  },
  {
   "cell_type": "code",
   "execution_count": 11,
   "metadata": {
    "collapsed": false
   },
   "outputs": [
    {
     "data": {
      "text/plain": [
       "(array([[ 0.        ,  0.27272727],\n",
       "        [ 0.27272727,  0.        ]]),\n",
       " array([[  0.00000000e+00,   0.00000000e+00],\n",
       "        [  5.55111512e-17,   0.00000000e+00]]),\n",
       " 5.5511151231257827e-17,\n",
       " 5.5511151231257827e-17)"
      ]
     },
     "execution_count": 11,
     "metadata": {},
     "output_type": "execute_result"
    }
   ],
   "source": [
    "testmsm.TPT()"
   ]
  },
  {
   "cell_type": "code",
   "execution_count": 12,
   "metadata": {
    "collapsed": false
   },
   "outputs": [
    {
     "name": "stderr",
     "output_type": "stream",
     "text": [
      "C:\\Users\\Niklas\\Anaconda\\lib\\site-packages\\IPython\\kernel\\__main__.py:19: RuntimeWarning: invalid value encountered in log\n"
     ]
    },
    {
     "data": {
      "text/plain": [
       "[-9007199254740992.0, nan]"
      ]
     },
     "execution_count": 12,
     "metadata": {},
     "output_type": "execute_result"
    }
   ],
   "source": [
    "testmsm.timescales()"
   ]
  },
  {
   "cell_type": "code",
   "execution_count": 19,
   "metadata": {
    "collapsed": false
   },
   "outputs": [],
   "source": [
    "s = T.shape"
   ]
  },
  {
   "cell_type": "code",
   "execution_count": 38,
   "metadata": {
    "collapsed": false
   },
   "outputs": [],
   "source": [
    "# Check whether a given matrix is stochastic and its transposed, too\n",
    "def checkDoublyStochastic(T):\n",
    "    TMbool = checkTransitionMatrix(T)\n",
    "    DSbool = 1\n",
    "    [n,m] = T.shape\n",
    "    for i in range(0,m):\n",
    "        if (sum(T[:,i]) != 1):\n",
    "            DSbool = 0\n",
    "            break\n",
    "    return DSbool"
   ]
  },
  {
   "cell_type": "code",
   "execution_count": 39,
   "metadata": {
    "collapsed": false
   },
   "outputs": [
    {
     "data": {
      "text/plain": [
       "1"
      ]
     },
     "execution_count": 39,
     "metadata": {},
     "output_type": "execute_result"
    }
   ],
   "source": [
    "checkDoublyStochastic(T)"
   ]
  },
  {
   "cell_type": "code",
   "execution_count": null,
   "metadata": {
    "collapsed": true
   },
   "outputs": [],
   "source": []
  }
 ],
 "metadata": {
  "kernelspec": {
   "display_name": "Python 2",
   "language": "python",
   "name": "python2"
  },
  "language_info": {
   "codemirror_mode": {
    "name": "ipython",
    "version": 2
   },
   "file_extension": ".py",
   "mimetype": "text/x-python",
   "name": "python",
   "nbconvert_exporter": "python",
   "pygments_lexer": "ipython2",
   "version": "2.7.9"
  }
 },
 "nbformat": 4,
 "nbformat_minor": 0
}
