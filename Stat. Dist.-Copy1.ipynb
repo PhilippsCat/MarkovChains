{
 "cells": [
  {
   "cell_type": "code",
   "execution_count": 1,
   "metadata": {
    "collapsed": false
   },
   "outputs": [
    {
     "name": "stdout",
     "output_type": "stream",
     "text": [
      "Populating the interactive namespace from numpy and matplotlib\n"
     ]
    }
   ],
   "source": [
    "%pylab inline"
   ]
  },
  {
   "cell_type": "code",
   "execution_count": 34,
   "metadata": {
    "collapsed": true
   },
   "outputs": [],
   "source": [
    "def statdist(T):\n",
    "    EW,EV = linalg.eig(transpose(T))\n",
    "    statdist = EV[:,0] / sum(EV[:,0])\n",
    "    return statdist"
   ]
  },
  {
   "cell_type": "code",
   "execution_count": 7,
   "metadata": {
    "collapsed": false
   },
   "outputs": [],
   "source": [
    "# hitting times: (not the hitting probabilities computet via the transition matrix! Only for a given chain!)\n",
    "def hittingtimes(chain, set):\n",
    "    \n",
    "    for t in range(0, len(chain) -1):\n",
    "        if (chain[t] in set):\n",
    "            break\n",
    "    return t"
   ]
  },
  {
   "cell_type": "code",
   "execution_count": 8,
   "metadata": {
    "collapsed": false
   },
   "outputs": [],
   "source": [
    "def meanhittingtime(chain):\n",
    "    HTs = []\n",
    "    counter = 0\n",
    "    for i in range(min(chain), max(chain)+1):\n",
    "        HTs.append(hittingtimes(chain,[i]))\n",
    "    meanHT = sum(HTs)/len(HTs)\n",
    "    return meanHT"
   ]
  },
  {
   "cell_type": "code",
   "execution_count": 46,
   "metadata": {
    "collapsed": false
   },
   "outputs": [],
   "source": [
    "# TPT analysis involving the discrete and effective prob. current, number of reactive trajectories, mean first passage time.\n",
    "# I don't know yet how to compute forward and backward committors\n",
    "def TPT(T, qminus, qplus):\n",
    "    n = len(qminus)\n",
    "    f = np.zeros(shape=(n,n)) # discrete prob. curr.\n",
    "    pi = statdist(T)\n",
    "    effprobcur = np.zeros(shape=(n,n))\n",
    "    FAB = 0\n",
    "    set = [1,2]\n",
    "    for i in range(0,n):\n",
    "        for j in range(0,n):\n",
    "            if (i != j):\n",
    "\n",
    "                f[i,j] = pi[i]*qminus[i]*T[i,j]*qplus[j]\n",
    "                f[j,i] = pi[j]*qminus[j]*T[j,i]*qplus[i]\n",
    "                effprobcur[i,j] = max(0,(f[i,j]- f[j,i]))\n",
    "\n",
    "                if (i in set):\n",
    "                    FAB = FAB + effprobcur[i,j]\n",
    "\n",
    "    KAB = FAB / dot(pi,qminus)\n",
    "    return f, effprobcur, FAB, KAB\n",
    "\n"
   ]
  },
  {
   "cell_type": "code",
   "execution_count": 37,
   "metadata": {
    "collapsed": false
   },
   "outputs": [
    {
     "name": "stdout",
     "output_type": "stream",
     "text": [
      "[ 0.33333333  0.33333333  0.33333333]\n",
      "[ 0.33333333  0.33333333  0.33333333]\n"
     ]
    }
   ],
   "source": [
    "# Test for stat. dist.\n",
    "T = np.array([ [0.4, 0.4, 0.2],[0.1,0.2, 0.7], [0.5, 0.4, 0.1]])\n",
    "EV, EW = linalg.eig(T)\n",
    "st = statdist(T)\n",
    "print st\n",
    "print dot(transpose(st),linalg.matrix_power(T,3))"
   ]
  },
  {
   "cell_type": "code",
   "execution_count": 48,
   "metadata": {
    "collapsed": false
   },
   "outputs": [
    {
     "data": {
      "text/plain": [
       "0.29213973799126658"
      ]
     },
     "execution_count": 48,
     "metadata": {},
     "output_type": "execute_result"
    }
   ],
   "source": [
    "# Test for TPT\n",
    "qminus = [1, 1, 0.4] #dummies for qminus and qplus\n",
    "qplus = [0.3, 0.2, 1]\n",
    "f, eff, FAB, KAB = TPT(T,qminus,qplus)\n",
    "KAB"
   ]
  },
  {
   "cell_type": "code",
   "execution_count": null,
   "metadata": {
    "collapsed": false
   },
   "outputs": [],
   "source": []
  },
  {
   "cell_type": "code",
   "execution_count": 34,
   "metadata": {
    "collapsed": false
   },
   "outputs": [
    {
     "data": {
      "text/plain": [
       "array([ 0.26455026,  0.28042328,  0.45502646])"
      ]
     },
     "execution_count": 34,
     "metadata": {},
     "output_type": "execute_result"
    }
   ],
   "source": []
  },
  {
   "cell_type": "code",
   "execution_count": 37,
   "metadata": {
    "collapsed": true
   },
   "outputs": [],
   "source": []
  },
  {
   "cell_type": "code",
   "execution_count": 124,
   "metadata": {
    "collapsed": false
   },
   "outputs": [],
   "source": []
  },
  {
   "cell_type": "code",
   "execution_count": 121,
   "metadata": {
    "collapsed": false
   },
   "outputs": [],
   "source": [
    "\n"
   ]
  },
  {
   "cell_type": "code",
   "execution_count": 74,
   "metadata": {
    "collapsed": false
   },
   "outputs": [
    {
     "data": {
      "text/plain": [
       "4"
      ]
     },
     "execution_count": 74,
     "metadata": {},
     "output_type": "execute_result"
    }
   ],
   "source": []
  },
  {
   "cell_type": "code",
   "execution_count": 92,
   "metadata": {
    "collapsed": true
   },
   "outputs": [],
   "source": []
  },
  {
   "cell_type": "code",
   "execution_count": 93,
   "metadata": {
    "collapsed": false
   },
   "outputs": [
    {
     "name": "stdout",
     "output_type": "stream",
     "text": [
      "2\n"
     ]
    },
    {
     "data": {
      "text/plain": [
       "2"
      ]
     },
     "execution_count": 93,
     "metadata": {},
     "output_type": "execute_result"
    }
   ],
   "source": []
  },
  {
   "cell_type": "code",
   "execution_count": 129,
   "metadata": {
    "collapsed": false,
    "scrolled": true
   },
   "outputs": [
    {
     "data": {
      "text/plain": [
       "0.47537325255502216"
      ]
     },
     "execution_count": 129,
     "metadata": {},
     "output_type": "execute_result"
    }
   ],
   "source": [
    "\n",
    "\n",
    "    "
   ]
  },
  {
   "cell_type": "code",
   "execution_count": null,
   "metadata": {
    "collapsed": true
   },
   "outputs": [],
   "source": []
  },
  {
   "cell_type": "code",
   "execution_count": null,
   "metadata": {
    "collapsed": true
   },
   "outputs": [],
   "source": []
  }
 ],
 "metadata": {
  "kernelspec": {
   "display_name": "Python 2",
   "language": "python",
   "name": "python2"
  },
  "language_info": {
   "codemirror_mode": {
    "name": "ipython",
    "version": 2
   },
   "file_extension": ".py",
   "mimetype": "text/x-python",
   "name": "python",
   "nbconvert_exporter": "python",
   "pygments_lexer": "ipython2",
   "version": "2.7.9"
  }
 },
 "nbformat": 4,
 "nbformat_minor": 0
}
