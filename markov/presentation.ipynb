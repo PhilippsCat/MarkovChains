{
 "cells": [
  {
   "cell_type": "markdown",
   "metadata": {},
   "source": [
    "# MarkovChain group presentation\n"
   ]
  },
  {
   "cell_type": "code",
   "execution_count": null,
   "metadata": {
    "collapsed": false
   },
   "outputs": [],
   "source": [
    "# Imports\n",
    "%matplotlib inline\n",
    "\n",
    "import sys\n",
    "sys.path.append('..')\n",
    "\n",
    "import matplotlib\n",
    "import numpy as np\n",
    "import matplotlib.pyplot as plt\n",
    "import markov.modules.clustering as cluster\n",
    "import markov.modules.estimate_transitionmatrix as estimator\n",
    "import markov.modules.analysis as analysis\n",
    "import markov.modules.visualization as visual\n",
    "%load_ext autoreload\n",
    "%autoreload 2"
   ]
  },
  {
   "cell_type": "code",
   "execution_count": null,
   "metadata": {
    "collapsed": true
   },
   "outputs": [],
   "source": [
    "# Parameters\n",
    "filename = \"../example_1.dat\"\n",
    "num_cluster = 6 # Number of clusters\n",
    "lag=1\n",
    "slide=False\n",
    "kmeans_method = 1\n",
    "dmin=0.1"
   ]
  },
  {
   "cell_type": "code",
   "execution_count": null,
   "metadata": {
    "collapsed": false
   },
   "outputs": [],
   "source": [
    "# read data\n",
    "rawData = np.loadtxt(filename, ndmin=2)"
   ]
  },
  {
   "cell_type": "code",
   "execution_count": null,
   "metadata": {
    "collapsed": false
   },
   "outputs": [],
   "source": [
    "print rawData[:5]"
   ]
  },
  {
   "cell_type": "code",
   "execution_count": null,
   "metadata": {
    "collapsed": false
   },
   "outputs": [],
   "source": [
    "# clusterig\n",
    "pt_to_cc, cc = cluster.kmeans(rawData, num_cluster, kmeans_method)\n",
    "#pt_to_cc, cc = cluster.regspace(rawData, dmin)\n"
   ]
  },
  {
   "cell_type": "code",
   "execution_count": null,
   "metadata": {
    "collapsed": false
   },
   "outputs": [],
   "source": [
    "# estimate transition matrix\n",
    "\n",
    "# set up count matrix\n",
    "countMat = estimator.count_transitions(pt_to_cc, lag, slide)\n",
    "\n",
    "# create transition matrix with detailed balance condition\n",
    "transMat = estimator.db_estimator(countMat)"
   ]
  },
  {
   "cell_type": "code",
   "execution_count": null,
   "metadata": {
    "collapsed": false
   },
   "outputs": [],
   "source": [
    "print transMat"
   ]
  },
  {
   "cell_type": "code",
   "execution_count": null,
   "metadata": {
    "collapsed": false
   },
   "outputs": [],
   "source": [
    "# analysis\n",
    "\n",
    "#create MSM object\n",
    "anaMat = analysis.MSM(transMat)\n",
    "\n",
    "print \"stationary distribution: \\n\" + str(anaMat.statDist())\n",
    "print \"eigenvalues: \\n\" + str(anaMat.eigenvalues())"
   ]
  },
  {
   "cell_type": "code",
   "execution_count": null,
   "metadata": {
    "collapsed": false
   },
   "outputs": [],
   "source": [
    "ccc = np.sort([x[0] for x in cc])"
   ]
  },
  {
   "cell_type": "code",
   "execution_count": null,
   "metadata": {
    "collapsed": false
   },
   "outputs": [],
   "source": [
    "# for 1D with 2 clusters\n",
    "plt.hist(rawData, bins=25, color=\"r\", alpha=0.8)\n",
    "for i in range(0,len(cc)-1):\n",
    "    plt.axvline((ccc[i+1]+ccc[i])/2, color='b', linestyle='dashed', linewidth=2)\n",
    "plt.show()"
   ]
  },
  {
   "cell_type": "code",
   "execution_count": null,
   "metadata": {
    "collapsed": false
   },
   "outputs": [],
   "source": [
    "visual.plot_stationary(anaMat.statDist())"
   ]
  },
  {
   "cell_type": "code",
   "execution_count": null,
   "metadata": {
    "collapsed": false
   },
   "outputs": [],
   "source": [
    "# Show probability to hit 0 before 1.\n",
    "print anaMat.hitting_prob([0], [1])"
   ]
  },
  {
   "cell_type": "code",
   "execution_count": null,
   "metadata": {
    "collapsed": false
   },
   "outputs": [],
   "source": [
    "_,_,_, kappa_AB, tau_AB = anaMat.tpt([0,1],[2,3])\n",
    "print kappa_AB, tau_AB\n",
    "plot = visual.plot_TR_matrix(anaMat)"
   ]
  },
  {
   "cell_type": "code",
   "execution_count": null,
   "metadata": {
    "collapsed": false
   },
   "outputs": [],
   "source": [
    "visual.plot_chain_frequencies(pt_to_cc)"
   ]
  },
  {
   "cell_type": "code",
   "execution_count": null,
   "metadata": {
    "collapsed": false
   },
   "outputs": [],
   "source": [
    "print anaMat.pcca(2)"
   ]
  },
  {
   "cell_type": "code",
   "execution_count": null,
   "metadata": {
    "collapsed": false
   },
   "outputs": [],
   "source": [
    "start = np.zeros(anaMat.T.shape[0])\n",
    "start[0]=1.\n",
    "visual.mostlikelypath_visu(start, anaMat.T, 10)\n",
    "\n",
    "# for demonstration, a circle walk\n",
    "U = np.array([[0,1,0],[0,0,1],[1,0,0]])\n",
    "visual.mostlikelypath_visu([1,0,0], U, 10)"
   ]
  },
  {
   "cell_type": "code",
   "execution_count": null,
   "metadata": {
    "collapsed": true
   },
   "outputs": [],
   "source": []
  }
 ],
 "metadata": {
  "kernelspec": {
   "display_name": "Python 2",
   "language": "python",
   "name": "python2"
  },
  "language_info": {
   "codemirror_mode": {
    "name": "ipython",
    "version": 2
   },
   "file_extension": ".py",
   "mimetype": "text/x-python",
   "name": "python",
   "nbconvert_exporter": "python",
   "pygments_lexer": "ipython2",
   "version": "2.7.10"
  }
 },
 "nbformat": 4,
 "nbformat_minor": 0
}
