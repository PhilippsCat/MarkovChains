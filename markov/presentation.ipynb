{
 "cells": [
  {
   "cell_type": "markdown",
   "metadata": {},
   "source": [
    "# MarkovChain group presentation\n"
   ]
  },
  {
   "cell_type": "code",
   "execution_count": 19,
   "metadata": {
    "collapsed": false
   },
   "outputs": [],
   "source": [
    "# Imports\n",
    "%matplotlib inline\n",
    "\n",
    "import sys\n",
    "sys.path.append('..')\n",
    "\n",
    "import matplotlib\n",
    "import numpy as np\n",
    "import matplotlib.pyplot as plt\n",
    "import markov.modules.clustering as cluster\n",
    "import markov.modules.estimate_transitionmatrix as estimator\n",
    "import markov.modules.analysis as analysis\n",
    "import markov.modules.visualization as visual"
   ]
  },
  {
   "cell_type": "code",
   "execution_count": 33,
   "metadata": {
    "collapsed": true
   },
   "outputs": [],
   "source": [
    "# Parameters\n",
    "filename = \"../example_1.dat\"\n",
    "num_cluster = 4 # Number of clusters\n",
    "lag=1\n",
    "slide=False\n",
    "kmeans_method = 1 "
   ]
  },
  {
   "cell_type": "code",
   "execution_count": 8,
   "metadata": {
    "collapsed": false
   },
   "outputs": [],
   "source": [
    "# read data\n",
    "rawData = np.loadtxt(filename, ndmin=2)"
   ]
  },
  {
   "cell_type": "code",
   "execution_count": 10,
   "metadata": {
    "collapsed": false
   },
   "outputs": [
    {
     "name": "stdout",
     "output_type": "stream",
     "text": [
      "[[ 0.        ]\n",
      " [ 2.54764091]\n",
      " [ 2.28948128]\n",
      " [ 0.8843802 ]\n",
      " [-0.08986103]]\n"
     ]
    }
   ],
   "source": [
    "print rawData[:5]"
   ]
  },
  {
   "cell_type": "code",
   "execution_count": 34,
   "metadata": {
    "collapsed": true
   },
   "outputs": [],
   "source": [
    "# clusterig\n",
    "pt_to_cc, cc = cluster.kmeans(rawData, num_cluster, kmeans_method)"
   ]
  },
  {
   "cell_type": "code",
   "execution_count": 35,
   "metadata": {
    "collapsed": false
   },
   "outputs": [],
   "source": [
    "# estimate transition matrix\n",
    "\n",
    "# set up count matrix\n",
    "countMat = estimator.count_transitions(pt_to_cc, lag, slide)\n",
    "\n",
    "# create transition matrix with detailed balance condition\n",
    "transMat = estimator.db_estimator(countMat)"
   ]
  },
  {
   "cell_type": "code",
   "execution_count": 36,
   "metadata": {
    "collapsed": false
   },
   "outputs": [
    {
     "name": "stdout",
     "output_type": "stream",
     "text": [
      "stationary distribution: \n",
      "[ 0.24151497  0.27717581  0.21655434  0.26475489]\n",
      "eigenvalues: \n",
      "[  1.00000000e+00   2.37303311e-01   1.68896481e-02  -3.04018380e-04]\n"
     ]
    }
   ],
   "source": [
    "# analysis\n",
    "\n",
    "#create MSM object\n",
    "anaMat = analysis.MSM(transMat)\n",
    "\n",
    "print \"stationary distribution: \\n\" + str(anaMat.statDist())\n",
    "print \"eigenvalues: \\n\" + str(anaMat.eigenvalues())"
   ]
  },
  {
   "cell_type": "code",
   "execution_count": 48,
   "metadata": {
    "collapsed": false
   },
   "outputs": [],
   "source": [
    "ccc = np.sort([x[0] for x in cc])"
   ]
  },
  {
   "cell_type": "code",
   "execution_count": 49,
   "metadata": {
    "collapsed": false
   },
   "outputs": [
    {
     "data": {
      "image/png": "[encoded data removed]",
      "text/plain": [
       "<matplotlib.figure.Figure at 0x7f8f4938bed0>"
      ]
     },
     "metadata": {},
     "output_type": "display_data"
    }
   ],
   "source": [
    "# for 1D with 2 clusters\n",
    "plt.hist(rawData, bins=25, color=\"r\", alpha=0.8)\n",
    "for i in range(0,len(cc)-1):\n",
    "    plt.axvline((ccc[i+1]+ccc[i])/2, color='b', linestyle='dashed', linewidth=2)\n",
    "plt.show()"
   ]
  },
  {
   "cell_type": "code",
   "execution_count": 50,
   "metadata": {
    "collapsed": false
   },
   "outputs": [
    {
     "data": {
      "image/png": "[encoded data removed]",
      "text/plain": [
       "<matplotlib.figure.Figure at 0x7f8f494fcc50>"
      ]
     },
     "metadata": {},
     "output_type": "display_data"
    }
   ],
   "source": [
    "visual.plot_stationary(anaMat.statDist())"
   ]
  },
  {
   "cell_type": "code",
   "execution_count": 51,
   "metadata": {
    "collapsed": false
   },
   "outputs": [
    {
     "name": "stdout",
     "output_type": "stream",
     "text": [
      "[ 1.          0.          0.50585846  0.39920969]\n"
     ]
    }
   ],
   "source": [
    "print anaMat.hitting_prob([0], [1])"
   ]
  },
  {
   "cell_type": "code",
   "execution_count": null,
   "metadata": {
    "collapsed": true
   },
   "outputs": [],
   "source": []
  }
 ],
 "metadata": {
  "kernelspec": {
   "display_name": "Python 2",
   "language": "python",
   "name": "python2"
  },
  "language_info": {
   "codemirror_mode": {
    "name": "ipython",
    "version": 2
   },
   "file_extension": ".py",
   "mimetype": "text/x-python",
   "name": "python",
   "nbconvert_exporter": "python",
   "pygments_lexer": "ipython2",
   "version": "2.7.10"
  }
 },
 "nbformat": 4,
 "nbformat_minor": 0
}
